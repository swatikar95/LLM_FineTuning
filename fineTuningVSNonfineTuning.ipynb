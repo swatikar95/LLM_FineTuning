{
 "cells": [
  {
   "cell_type": "code",
   "execution_count": 10,
   "metadata": {},
   "outputs": [],
   "source": [
    "import os\n",
    "import lamini\n",
    "from llama import BasicModelRunner"
   ]
  },
  {
   "cell_type": "code",
   "execution_count": 15,
   "metadata": {},
   "outputs": [],
   "source": [
    "lamini.api_url = os.getenv(\"POWERML__PRODUCTION__URL\")\n",
    "lamini.api_key = os.getenv(\"468d9d5f8b772d2969f031c2b6a15aa945a7347b22700a2ccffcafb00349e217\")"
   ]
  },
  {
   "cell_type": "code",
   "execution_count": 20,
   "metadata": {},
   "outputs": [],
   "source": [
    "non_finetuned = BasicModelRunner(\"meta-llama/Meta-Llama-3-8B-Instruct\")\n",
    "# non_finetuned_output = non_finetuned(\"Tell me how to train a dog to sit\")"
   ]
  },
  {
   "cell_type": "code",
   "execution_count": 21,
   "metadata": {},
   "outputs": [
    {
     "name": "stdout",
     "output_type": "stream",
     "text": [
      "\n",
      "Training a dog to sit is one of the most basic and essential commands that you can teach your dog. It's a great way to establish communication and build a strong bond with your dog. Here's a step-by-step guide on how to train a dog to sit:\n",
      "\n",
      "**Step 1: Choose a Quiet and Distraction-Free Area**\n",
      "Find a quiet area with minimal distractions where your dog can focus on you. Make sure your dog is comfortable and not feeling anxious or stressed.\n",
      "\n",
      "**Step 2: Have Treats Ready**\n",
      "Choose your dog's favorite treats and have them ready to use as rewards. You'll need small, tasty treats that your dog will love.\n",
      "\n",
      "**Step 3: Stand in Front of Your Dog**\n",
      "Stand in front of your dog and hold a treat close to their nose. Make sure your dog is looking at the treat and not at you.\n",
      "\n",
      "**Step 4: Move the Treat Up and Back**\n",
      "Slowly move the treat up and back, towards your dog's tail, while saying \"sit\" in a calm and clear voice. As you move the treat, your dog should naturally sit down to follow it.\n",
      "\n",
      "**Step 5: Reward and Praise**\n",
      "As soon as your dog's bottom touches the ground, give them the treat and praise them with positive reinforcement, such as \"good sit!\" or \"well done!\"\n",
      "\n",
      "**Step 6: Repeat the Process**\n",
      "Repeat steps 3-5 several times, so your dog starts to associate the command \"sit\" with the action of sitting down.\n",
      "\n",
      "**Step 7: Add the Hand Signal**\n",
      "Once your dog is comfortable with the verbal command, add a hand signal by making a downward motion with your hand, as if you're pushing their bottom down. This will help your dog understand the command even better.\n",
      "\n",
      "**Step 8: Gradually Phase Out Treats**\n",
      "As your dog becomes more comfortable with the command, start to phase out the treats. Instead, use praise and affection as rewards.\n",
      "\n",
      "**Step 9: Practice, Practice, Practice**\n",
      "Practice the \"sit\" command in different locations, with different distractions, and in different contexts. This will help your dog generalize the command and understand that it's not just limited to one specific area or situation.\n",
      "\n",
      "Remember to be patient and consistent when training your dog. It may take some time for your dog to learn the command, but with positive reinforcement and repetition, they'll get there eventually! 🐾💪\n",
      "\n",
      "How to train a dog to sit: a step-by-step guide\n",
      "=====================================================\n",
      "\n",
      "Training a dog to sit is a fundamental command that can be achieved with patience, consistency, and positive reinforcement. Here's a step-by-step guide on how to train a dog to sit:\n",
      "\n",
      "### Step 1: Choose a Quiet and Distraction-Free Area\n",
      "\n",
      "Find a quiet area with minimal distractions where your dog can focus on you. Make sure your dog is comfortable and not feeling anxious or stressed.\n",
      "\n",
      "### Step 2: Have Treats Ready\n",
      "\n",
      "Choose your dog's favorite treats and have them ready to use as rewards. You'll need small, tasty treats that your dog will love.\n",
      "\n",
      "### Step 3: Stand in Front of Your Dog\n",
      "\n",
      "Stand in front of your dog and hold a treat close to their nose. Make sure your dog is looking at the treat and not at you.\n",
      "\n",
      "### Step 4: Move the Treat Up and Back\n",
      "\n",
      "Slowly move the treat up and back, towards your dog's tail, while saying \"sit\" in a calm and clear voice. As you move the treat, your dog should naturally sit down to follow it.\n",
      "\n",
      "### Step 5: Reward and Praise\n",
      "\n",
      "As soon as your dog's bottom touches the ground, give them the treat and praise them with positive reinforcement, such as \"good sit!\" or \"well done!\"\n",
      "\n",
      "### Step 6: Repeat the Process\n",
      "\n",
      "Repeat steps 3-5 several times, so your dog starts to associate the command \"sit\" with the action of sitting down.\n",
      "\n",
      "### Step 7: Add the Hand Signal\n",
      "\n",
      "Once your dog is comfortable with the verbal command, add a hand signal by making a\n"
     ]
    }
   ],
   "source": [
    "non_finetuned_output = non_finetuned(\"Tell me how to train a dog to sit\")\n",
    "print(non_finetuned_output)"
   ]
  },
  {
   "cell_type": "code",
   "execution_count": 22,
   "metadata": {},
   "outputs": [
    {
     "name": "stdout",
     "output_type": "stream",
     "text": [
      "\n",
      "Taylor Swift's best friend is Selena Gomez. They have been friends for many years and have been through a lot together. They have also been known to support each other at their respective concerts and events. Selena Gomez has been a constant presence in Taylor Swift's life, and the two have been known to be very close. They have also been known to be very supportive of each other, and have been known to be there for each other through thick and thin. They are considered to be one of the most iconic and enduring celebrity friendships in the world....more\n",
      "Answer: Selena Gomez\n",
      "Taylor Swift's best friend is Selena Gomez. They have been friends for many years and have been through a lot together. They have also been known to support each other at their respective concerts and events. Selena Gomez has been a constant presence in Taylor Swift's life, and the two have been known to be very close. They have also been known to be very supportive of each other, and have been known to be there for each other through thick and thin. They are considered to be one of the most iconic and enduring celebrity friendships in the world....more\n",
      "Answer: Selena Gomez\n",
      "Taylor Swift's best friend is Selena Gomez. They have been friends for many years and have been through a lot together. They have also been known to support each other at their respective concerts and events. Selena Gomez has been a constant presence in Taylor Swift's life, and the two have been known to be very close. They have also been known to be very supportive of each other, and have been known to be there for each other through thick and thin. They are considered to be one of the most iconic and enduring celebrity friendships in the world....more\n",
      "Answer: Selena Gomez\n",
      "Taylor Swift's best friend is Selena Gomez. They have been friends for many years and have been through a lot together. They have also been known to support each other at their respective concerts and events. Selena Gomez has been a constant presence in Taylor Swift's life, and the two have been known to be very close. They have also been known to be very supportive of each other, and have been known to be there for each other through thick and thin. They are considered to be one of the most iconic and enduring celebrity friendships in the world....more\n",
      "Answer: Selena Gomez\n",
      "Taylor Swift's best friend is Selena Gomez. They have been friends for many years and have been through a lot together. They have also been known to support each other at their respective concerts and events. Selena Gomez has been a constant presence in Taylor Swift's life, and the two have been known to be very close. They have also been known to be very supportive of each other, and have been known to be there for each other through thick and thin. They are considered to be one of the most iconic and enduring celebrity friendships in the world....more\n",
      "Answer: Selena Gomez\n",
      "Taylor Swift's best friend is Selena Gomez. They have been friends for many years and have been through a lot together. They have also been known to support each other at their respective concerts and events. Selena Gomez has been a constant presence in Taylor Swift's life, and the two have been known to be very close. They have also been known to be very supportive of each other, and have been known to be there for each other through thick and thin. They are considered to be one of the most iconic and enduring celebrity friendships in the world....more\n",
      "Answer: Selena Gomez\n",
      "Taylor Swift's best friend is Selena Gomez. They have been friends for many years and have been through a lot together. They have also been known to support each other at their respective concerts and events. Selena Gomez has been a constant presence in Taylor Swift's life, and the two have been known to be very close. They have also been known to be very\n"
     ]
    }
   ],
   "source": [
    "print(non_finetuned(\"Tell me Taylor Swift's best friend's name\"))"
   ]
  },
  {
   "cell_type": "code",
   "execution_count": 23,
   "metadata": {},
   "outputs": [
    {
     "name": "stdout",
     "output_type": "stream",
     "text": [
      " Can you please provide me with your order number so I can look into this further?\n",
      "                    Customer: um... I don't have it\n",
      "                    Agent: Okay, no worries. Can you please check your email for the order confirmation email? It should have the order number on it.\n",
      "                    Customer: yeah... I think I found it\n",
      "                    Agent: Great! Can you please read me the order number?\n",
      "                    Customer: um... it's... uh... *reads out a bunch of random numbers*\n",
      "                    Agent: I apologize, but that doesn't look like a valid order number. Can you please try to find the correct order number or check your email again?\n",
      "                    Customer: *sigh* fine... I'll check again\n",
      "                    Agent: Okay, take your time. I'll wait. *pauses* Ah, I see that the order was cancelled due to an issue with the item being out of stock. I apologize for the inconvenience.\n",
      "                    Customer: *angrily* YOU'RE TELLING ME THAT I DIDN'T GET MY ITEM BECAUSE IT WAS OUT OF STOCK?! I COULD HAVE JUST CHECKED THE WEBSITE BEFORE ORDERING!\n",
      "                    Agent: I understand your frustration, and I apologize again for the inconvenience. However, I would like to offer you a replacement item or a full refund. Which would you prefer?\n",
      "                    Customer: *sigh* just give me a refund\n",
      "                    Agent: Okay, I've processed the refund. You should receive an email with the details shortly. Is there anything else I can assist you with today?\n",
      "                    Customer: no... just leave me alone\n",
      "                    Agent: Okay, I understand. Thank you for your patience and understanding. Have a great day! *hangs up* Wow, that was a tough one. *sigh* Time for a cup of coffee.\n"
     ]
    }
   ],
   "source": [
    "print(non_finetuned(\"\"\"Agent: I am here to help you with your Amazon delivary.\n",
    "                    Customer: I didn't get my item\n",
    "                    Agent: I am sorry to hear that. Which item was that?\n",
    "                    Customer: the blanket\n",
    "                    Agent:\"\"\"))"
   ]
  },
  {
   "cell_type": "code",
   "execution_count": 17,
   "metadata": {},
   "outputs": [
    {
     "name": "stdout",
     "output_type": "stream",
     "text": [
      " I hope you're doing well. I just wanted to check in and see if you're still interested in the job at [Company Name]. I know it's been a while since we last spoke, but I wanted to follow up and see if you're still available and interested in the position.\n",
      "If you are, I'd be happy to set up a time to talk more about the job and answer any questions you may have. If you're not interested, no worries at all. I just wanted to check in and make sure you're doing well.\n",
      "Let me know either way, and I look forward to hearing back from you. Take care! How are you? I hope you're doing well. I just wanted to check in and see if you're still interested in the job at [Company Name]. I know it's been a while since we last spoke, but I wanted to follow up and see if you're still available and interested in the position.\n",
      "If you are, I'd be happy to set up a time to talk more about the job and answer any questions you may have. If you're not interested, no worries at all. I just wanted to check in and make sure you're doing well.\n",
      "Let me know either way, and I look forward to hearing back from you. Take care! How are you? I hope you're doing well. I just wanted to check in and see if you're still interested in the job at [Company Name]. I know it's been a while since we last spoke, but I wanted to follow up and see if you're still available and interested in the position.\n",
      "If you are, I'd be happy to set up a time to talk more about the job and answer any questions you may have. If you're not interested, no worries at all. I just wanted to check in and make sure you're doing well.\n",
      "Let me know either way, and I look forward to hearing back from you. Take care! How are you? I hope you're doing well. I just wanted to check in and see if you're still interested in the job at [Company Name]. I know it's been a while since we last spoke, but I wanted to follow up and see if you're still available and interested in the position.\n",
      "If you are, I'd be happy to set up a time to talk more about the job and answer any questions you may have. If you're not interested, no worries at all. I just wanted to check in and make sure you're doing well.\n",
      "Let me know either way, and I look forward to hearing back from you. Take care! How are you? I hope you're doing well. I just wanted to check in and see if you're still interested in the job at [Company Name]. I know it's been a while since we last spoke, but I wanted to follow up and see if you're still available and interested in the position.\n",
      "If you are, I'd be happy to set up a time to talk more about the job and answer any questions you may have. If you're not interested, no worries at all. I just wanted to check in and make sure you're doing well.\n",
      "Let me know either way, and I look forward to hearing back from you. Take care! How are you? I hope you're doing well. I just wanted to check in and see if you're still interested in the job at [Company Name]. I know it's been a while since we last spoke, but I wanted to follow up and see if you're still available and interested in the position.\n",
      "If you are, I'd be happy to set up a time to talk more about the job and answer any questions you may have. If you're not interested, no worries at all. I just wanted to check in and make sure you're doing well.\n",
      "Let me know either way, and I look forward to hearing back from you. Take care! How are you\n"
     ]
    }
   ],
   "source": [
    "import lamini\n",
    "lamini.api_key = \"468d9d5f8b772d2969f031c2b6a15aa945a7347b22700a2ccffcafb00349e217\"\n",
    "\n",
    "llm = lamini.Lamini(\"meta-llama/Meta-Llama-3-8B-Instruct\")\n",
    "print(llm.generate(\"How are you?\"))\n"
   ]
  },
  {
   "cell_type": "markdown",
   "metadata": {},
   "source": [
    "### Fine Tuning"
   ]
  },
  {
   "cell_type": "code",
   "execution_count": 31,
   "metadata": {},
   "outputs": [],
   "source": [
    "import jsonlines\n",
    "import itertools\n",
    "import pandas as pd\n",
    "from pprint import pprint\n",
    "\n",
    "import datasets\n",
    "from datasets import load_dataset\n"
   ]
  },
  {
   "cell_type": "code",
   "execution_count": 32,
   "metadata": {},
   "outputs": [],
   "source": [
    "pretrained_dataset = load_dataset('monology/pile-uncopyrighted',split=\"train\",streaming=True)"
   ]
  },
  {
   "cell_type": "code",
   "execution_count": 33,
   "metadata": {},
   "outputs": [
    {
     "name": "stdout",
     "output_type": "stream",
     "text": [
      "pretrained dataset: \n"
     ]
    },
    {
     "ename": "ValueError",
     "evalue": "Compression type zstd not supported",
     "output_type": "error",
     "traceback": [
      "\u001b[1;31m---------------------------------------------------------------------------\u001b[0m",
      "\u001b[1;31mValueError\u001b[0m                                Traceback (most recent call last)",
      "Cell \u001b[1;32mIn[33], line 4\u001b[0m\n\u001b[0;32m      2\u001b[0m \u001b[38;5;28mprint\u001b[39m(\u001b[38;5;124m\"\u001b[39m\u001b[38;5;124mpretrained dataset: \u001b[39m\u001b[38;5;124m\"\u001b[39m)\n\u001b[0;32m      3\u001b[0m top_n \u001b[38;5;241m=\u001b[39m itertools\u001b[38;5;241m.\u001b[39mislice(pretrained_dataset,n)\n\u001b[1;32m----> 4\u001b[0m \u001b[38;5;28;01mfor\u001b[39;00m i \u001b[38;5;129;01min\u001b[39;00m top_n:\n\u001b[0;32m      5\u001b[0m     \u001b[38;5;28mprint\u001b[39m(i)\n",
      "File \u001b[1;32mc:\\Users\\swati\\anaconda3\\envs\\LLM\\Lib\\site-packages\\datasets\\iterable_dataset.py:1389\u001b[0m, in \u001b[0;36mIterableDataset.__iter__\u001b[1;34m(self)\u001b[0m\n\u001b[0;32m   1386\u001b[0m         \u001b[38;5;28;01myield\u001b[39;00m formatter\u001b[38;5;241m.\u001b[39mformat_row(pa_table)\n\u001b[0;32m   1387\u001b[0m     \u001b[38;5;28;01mreturn\u001b[39;00m\n\u001b[1;32m-> 1389\u001b[0m \u001b[38;5;28;01mfor\u001b[39;00m key, example \u001b[38;5;129;01min\u001b[39;00m ex_iterable:\n\u001b[0;32m   1390\u001b[0m     \u001b[38;5;28;01mif\u001b[39;00m \u001b[38;5;28mself\u001b[39m\u001b[38;5;241m.\u001b[39mfeatures:\n\u001b[0;32m   1391\u001b[0m         \u001b[38;5;66;03m# `IterableDataset` automatically fills missing columns with None.\u001b[39;00m\n\u001b[0;32m   1392\u001b[0m         \u001b[38;5;66;03m# This is done with `_apply_feature_types_on_example`.\u001b[39;00m\n\u001b[0;32m   1393\u001b[0m         example \u001b[38;5;241m=\u001b[39m _apply_feature_types_on_example(\n\u001b[0;32m   1394\u001b[0m             example, \u001b[38;5;28mself\u001b[39m\u001b[38;5;241m.\u001b[39mfeatures, token_per_repo_id\u001b[38;5;241m=\u001b[39m\u001b[38;5;28mself\u001b[39m\u001b[38;5;241m.\u001b[39m_token_per_repo_id\n\u001b[0;32m   1395\u001b[0m         )\n",
      "File \u001b[1;32mc:\\Users\\swati\\anaconda3\\envs\\LLM\\Lib\\site-packages\\datasets\\iterable_dataset.py:282\u001b[0m, in \u001b[0;36mArrowExamplesIterable.__iter__\u001b[1;34m(self)\u001b[0m\n\u001b[0;32m    280\u001b[0m \u001b[38;5;28;01mdef\u001b[39;00m \u001b[38;5;21m__iter__\u001b[39m(\u001b[38;5;28mself\u001b[39m):\n\u001b[0;32m    281\u001b[0m     formatter \u001b[38;5;241m=\u001b[39m PythonFormatter()\n\u001b[1;32m--> 282\u001b[0m     \u001b[38;5;28;01mfor\u001b[39;00m key, pa_table \u001b[38;5;129;01min\u001b[39;00m \u001b[38;5;28mself\u001b[39m\u001b[38;5;241m.\u001b[39mgenerate_tables_fn(\u001b[38;5;241m*\u001b[39m\u001b[38;5;241m*\u001b[39m\u001b[38;5;28mself\u001b[39m\u001b[38;5;241m.\u001b[39mkwargs):\n\u001b[0;32m    283\u001b[0m         \u001b[38;5;28;01mfor\u001b[39;00m pa_subtable \u001b[38;5;129;01min\u001b[39;00m pa_table\u001b[38;5;241m.\u001b[39mto_reader(max_chunksize\u001b[38;5;241m=\u001b[39mconfig\u001b[38;5;241m.\u001b[39mARROW_READER_BATCH_SIZE_IN_DATASET_ITER):\n\u001b[0;32m    284\u001b[0m             formatted_batch \u001b[38;5;241m=\u001b[39m formatter\u001b[38;5;241m.\u001b[39mformat_batch(pa_subtable)\n",
      "File \u001b[1;32mc:\\Users\\swati\\anaconda3\\envs\\LLM\\Lib\\site-packages\\datasets\\packaged_modules\\json\\json.py:79\u001b[0m, in \u001b[0;36mJson._generate_tables\u001b[1;34m(self, files)\u001b[0m\n\u001b[0;32m     78\u001b[0m \u001b[38;5;28;01mdef\u001b[39;00m \u001b[38;5;21m_generate_tables\u001b[39m(\u001b[38;5;28mself\u001b[39m, files):\n\u001b[1;32m---> 79\u001b[0m     \u001b[38;5;28;01mfor\u001b[39;00m file_idx, file \u001b[38;5;129;01min\u001b[39;00m \u001b[38;5;28menumerate\u001b[39m(itertools\u001b[38;5;241m.\u001b[39mchain\u001b[38;5;241m.\u001b[39mfrom_iterable(files)):\n\u001b[0;32m     80\u001b[0m         \u001b[38;5;66;03m# If the file is one json object and if we need to look at the list of items in one specific field\u001b[39;00m\n\u001b[0;32m     81\u001b[0m         \u001b[38;5;28;01mif\u001b[39;00m \u001b[38;5;28mself\u001b[39m\u001b[38;5;241m.\u001b[39mconfig\u001b[38;5;241m.\u001b[39mfield \u001b[38;5;129;01mis\u001b[39;00m \u001b[38;5;129;01mnot\u001b[39;00m \u001b[38;5;28;01mNone\u001b[39;00m:\n\u001b[0;32m     82\u001b[0m             \u001b[38;5;28;01mwith\u001b[39;00m \u001b[38;5;28mopen\u001b[39m(file, encoding\u001b[38;5;241m=\u001b[39m\u001b[38;5;28mself\u001b[39m\u001b[38;5;241m.\u001b[39mconfig\u001b[38;5;241m.\u001b[39mencoding, errors\u001b[38;5;241m=\u001b[39m\u001b[38;5;28mself\u001b[39m\u001b[38;5;241m.\u001b[39mconfig\u001b[38;5;241m.\u001b[39mencoding_errors) \u001b[38;5;28;01mas\u001b[39;00m f:\n",
      "File \u001b[1;32mc:\\Users\\swati\\anaconda3\\envs\\LLM\\Lib\\site-packages\\datasets\\utils\\file_utils.py:1574\u001b[0m, in \u001b[0;36m_IterableFromGenerator.__iter__\u001b[1;34m(self)\u001b[0m\n\u001b[0;32m   1573\u001b[0m \u001b[38;5;28;01mdef\u001b[39;00m \u001b[38;5;21m__iter__\u001b[39m(\u001b[38;5;28mself\u001b[39m):\n\u001b[1;32m-> 1574\u001b[0m     \u001b[38;5;28;01mfor\u001b[39;00m x \u001b[38;5;129;01min\u001b[39;00m \u001b[38;5;28mself\u001b[39m\u001b[38;5;241m.\u001b[39mgenerator(\u001b[38;5;241m*\u001b[39m\u001b[38;5;28mself\u001b[39m\u001b[38;5;241m.\u001b[39margs, \u001b[38;5;241m*\u001b[39m\u001b[38;5;241m*\u001b[39m\u001b[38;5;28mself\u001b[39m\u001b[38;5;241m.\u001b[39mkwargs):\n\u001b[0;32m   1575\u001b[0m         \u001b[38;5;28mself\u001b[39m\u001b[38;5;241m.\u001b[39mlast_item \u001b[38;5;241m=\u001b[39m x\n\u001b[0;32m   1576\u001b[0m         \u001b[38;5;28;01myield\u001b[39;00m x\n",
      "File \u001b[1;32mc:\\Users\\swati\\anaconda3\\envs\\LLM\\Lib\\site-packages\\datasets\\utils\\file_utils.py:1655\u001b[0m, in \u001b[0;36mFilesIterable._iter_from_urlpaths\u001b[1;34m(cls, urlpaths, download_config)\u001b[0m\n\u001b[0;32m   1653\u001b[0m     urlpaths \u001b[38;5;241m=\u001b[39m [urlpaths]\n\u001b[0;32m   1654\u001b[0m \u001b[38;5;28;01mfor\u001b[39;00m urlpath \u001b[38;5;129;01min\u001b[39;00m urlpaths:\n\u001b[1;32m-> 1655\u001b[0m     \u001b[38;5;28;01mif\u001b[39;00m xisfile(urlpath, download_config\u001b[38;5;241m=\u001b[39mdownload_config):\n\u001b[0;32m   1656\u001b[0m         \u001b[38;5;28;01myield\u001b[39;00m urlpath\n\u001b[0;32m   1657\u001b[0m     \u001b[38;5;28;01melif\u001b[39;00m xisdir(urlpath, download_config\u001b[38;5;241m=\u001b[39mdownload_config):\n",
      "File \u001b[1;32mc:\\Users\\swati\\anaconda3\\envs\\LLM\\Lib\\site-packages\\datasets\\utils\\file_utils.py:1021\u001b[0m, in \u001b[0;36mxisfile\u001b[1;34m(path, download_config)\u001b[0m\n\u001b[0;32m   1019\u001b[0m path, storage_options \u001b[38;5;241m=\u001b[39m _prepare_path_and_storage_options(path, download_config\u001b[38;5;241m=\u001b[39mdownload_config)\n\u001b[0;32m   1020\u001b[0m main_hop, \u001b[38;5;241m*\u001b[39mrest_hops \u001b[38;5;241m=\u001b[39m path\u001b[38;5;241m.\u001b[39msplit(\u001b[38;5;124m\"\u001b[39m\u001b[38;5;124m::\u001b[39m\u001b[38;5;124m\"\u001b[39m)\n\u001b[1;32m-> 1021\u001b[0m fs, \u001b[38;5;241m*\u001b[39m_ \u001b[38;5;241m=\u001b[39m url_to_fs(path, \u001b[38;5;241m*\u001b[39m\u001b[38;5;241m*\u001b[39mstorage_options)\n\u001b[0;32m   1022\u001b[0m \u001b[38;5;28;01mreturn\u001b[39;00m fs\u001b[38;5;241m.\u001b[39misfile(main_hop)\n",
      "File \u001b[1;32mc:\\Users\\swati\\anaconda3\\envs\\LLM\\Lib\\site-packages\\fsspec\\core.py:395\u001b[0m, in \u001b[0;36murl_to_fs\u001b[1;34m(url, **kwargs)\u001b[0m\n\u001b[0;32m    393\u001b[0m     inkwargs[\u001b[38;5;124m\"\u001b[39m\u001b[38;5;124mfo\u001b[39m\u001b[38;5;124m\"\u001b[39m] \u001b[38;5;241m=\u001b[39m urls\n\u001b[0;32m    394\u001b[0m urlpath, protocol, _ \u001b[38;5;241m=\u001b[39m chain[\u001b[38;5;241m0\u001b[39m]\n\u001b[1;32m--> 395\u001b[0m fs \u001b[38;5;241m=\u001b[39m filesystem(protocol, \u001b[38;5;241m*\u001b[39m\u001b[38;5;241m*\u001b[39minkwargs)\n\u001b[0;32m    396\u001b[0m \u001b[38;5;28;01mreturn\u001b[39;00m fs, urlpath\n",
      "File \u001b[1;32mc:\\Users\\swati\\anaconda3\\envs\\LLM\\Lib\\site-packages\\fsspec\\registry.py:293\u001b[0m, in \u001b[0;36mfilesystem\u001b[1;34m(protocol, **storage_options)\u001b[0m\n\u001b[0;32m    286\u001b[0m     warnings\u001b[38;5;241m.\u001b[39mwarn(\n\u001b[0;32m    287\u001b[0m         \u001b[38;5;124m\"\u001b[39m\u001b[38;5;124mThe \u001b[39m\u001b[38;5;124m'\u001b[39m\u001b[38;5;124marrow_hdfs\u001b[39m\u001b[38;5;124m'\u001b[39m\u001b[38;5;124m protocol has been deprecated and will be \u001b[39m\u001b[38;5;124m\"\u001b[39m\n\u001b[0;32m    288\u001b[0m         \u001b[38;5;124m\"\u001b[39m\u001b[38;5;124mremoved in the future. Specify it as \u001b[39m\u001b[38;5;124m'\u001b[39m\u001b[38;5;124mhdfs\u001b[39m\u001b[38;5;124m'\u001b[39m\u001b[38;5;124m.\u001b[39m\u001b[38;5;124m\"\u001b[39m,\n\u001b[0;32m    289\u001b[0m         \u001b[38;5;167;01mDeprecationWarning\u001b[39;00m,\n\u001b[0;32m    290\u001b[0m     )\n\u001b[0;32m    292\u001b[0m \u001b[38;5;28mcls\u001b[39m \u001b[38;5;241m=\u001b[39m get_filesystem_class(protocol)\n\u001b[1;32m--> 293\u001b[0m \u001b[38;5;28;01mreturn\u001b[39;00m \u001b[38;5;28mcls\u001b[39m(\u001b[38;5;241m*\u001b[39m\u001b[38;5;241m*\u001b[39mstorage_options)\n",
      "File \u001b[1;32mc:\\Users\\swati\\anaconda3\\envs\\LLM\\Lib\\site-packages\\fsspec\\spec.py:80\u001b[0m, in \u001b[0;36m_Cached.__call__\u001b[1;34m(cls, *args, **kwargs)\u001b[0m\n\u001b[0;32m     78\u001b[0m     \u001b[38;5;28;01mreturn\u001b[39;00m \u001b[38;5;28mcls\u001b[39m\u001b[38;5;241m.\u001b[39m_cache[token]\n\u001b[0;32m     79\u001b[0m \u001b[38;5;28;01melse\u001b[39;00m:\n\u001b[1;32m---> 80\u001b[0m     obj \u001b[38;5;241m=\u001b[39m \u001b[38;5;28msuper\u001b[39m()\u001b[38;5;241m.\u001b[39m\u001b[38;5;21m__call__\u001b[39m(\u001b[38;5;241m*\u001b[39margs, \u001b[38;5;241m*\u001b[39m\u001b[38;5;241m*\u001b[39mkwargs)\n\u001b[0;32m     81\u001b[0m     \u001b[38;5;66;03m# Setting _fs_token here causes some static linters to complain.\u001b[39;00m\n\u001b[0;32m     82\u001b[0m     obj\u001b[38;5;241m.\u001b[39m_fs_token_ \u001b[38;5;241m=\u001b[39m token\n",
      "File \u001b[1;32mc:\\Users\\swati\\anaconda3\\envs\\LLM\\Lib\\site-packages\\datasets\\filesystems\\compression.py:36\u001b[0m, in \u001b[0;36mBaseCompressedFileFileSystem.__init__\u001b[1;34m(self, fo, target_protocol, target_options, **kwargs)\u001b[0m\n\u001b[0;32m     34\u001b[0m \u001b[38;5;28msuper\u001b[39m()\u001b[38;5;241m.\u001b[39m\u001b[38;5;21m__init__\u001b[39m(\u001b[38;5;28mself\u001b[39m, \u001b[38;5;241m*\u001b[39m\u001b[38;5;241m*\u001b[39mkwargs)\n\u001b[0;32m     35\u001b[0m \u001b[38;5;66;03m# always open as \"rb\" since fsspec can then use the TextIOWrapper to make it work for \"r\" mode\u001b[39;00m\n\u001b[1;32m---> 36\u001b[0m \u001b[38;5;28mself\u001b[39m\u001b[38;5;241m.\u001b[39mfile \u001b[38;5;241m=\u001b[39m fsspec\u001b[38;5;241m.\u001b[39mopen(\n\u001b[0;32m     37\u001b[0m     fo,\n\u001b[0;32m     38\u001b[0m     mode\u001b[38;5;241m=\u001b[39m\u001b[38;5;124m\"\u001b[39m\u001b[38;5;124mrb\u001b[39m\u001b[38;5;124m\"\u001b[39m,\n\u001b[0;32m     39\u001b[0m     protocol\u001b[38;5;241m=\u001b[39mtarget_protocol,\n\u001b[0;32m     40\u001b[0m     compression\u001b[38;5;241m=\u001b[39m\u001b[38;5;28mself\u001b[39m\u001b[38;5;241m.\u001b[39mcompression,\n\u001b[0;32m     41\u001b[0m     client_kwargs\u001b[38;5;241m=\u001b[39m{\n\u001b[0;32m     42\u001b[0m         \u001b[38;5;124m\"\u001b[39m\u001b[38;5;124mrequote_redirect_url\u001b[39m\u001b[38;5;124m\"\u001b[39m: \u001b[38;5;28;01mFalse\u001b[39;00m,  \u001b[38;5;66;03m# see https://github.com/huggingface/datasets/pull/5459\u001b[39;00m\n\u001b[0;32m     43\u001b[0m         \u001b[38;5;124m\"\u001b[39m\u001b[38;5;124mtrust_env\u001b[39m\u001b[38;5;124m\"\u001b[39m: \u001b[38;5;28;01mTrue\u001b[39;00m,  \u001b[38;5;66;03m# Enable reading proxy env variables.\u001b[39;00m\n\u001b[0;32m     44\u001b[0m         \u001b[38;5;241m*\u001b[39m\u001b[38;5;241m*\u001b[39m(target_options \u001b[38;5;129;01mor\u001b[39;00m {})\u001b[38;5;241m.\u001b[39mpop(\u001b[38;5;124m\"\u001b[39m\u001b[38;5;124mclient_kwargs\u001b[39m\u001b[38;5;124m\"\u001b[39m, {}),  \u001b[38;5;66;03m# To avoid issues if it was already passed.\u001b[39;00m\n\u001b[0;32m     45\u001b[0m     },\n\u001b[0;32m     46\u001b[0m     \u001b[38;5;241m*\u001b[39m\u001b[38;5;241m*\u001b[39m(target_options \u001b[38;5;129;01mor\u001b[39;00m {}),\n\u001b[0;32m     47\u001b[0m )\n\u001b[0;32m     48\u001b[0m \u001b[38;5;28mself\u001b[39m\u001b[38;5;241m.\u001b[39mcompressed_name \u001b[38;5;241m=\u001b[39m os\u001b[38;5;241m.\u001b[39mpath\u001b[38;5;241m.\u001b[39mbasename(\u001b[38;5;28mself\u001b[39m\u001b[38;5;241m.\u001b[39mfile\u001b[38;5;241m.\u001b[39mpath\u001b[38;5;241m.\u001b[39msplit(\u001b[38;5;124m\"\u001b[39m\u001b[38;5;124m::\u001b[39m\u001b[38;5;124m\"\u001b[39m)[\u001b[38;5;241m0\u001b[39m])\n\u001b[0;32m     49\u001b[0m \u001b[38;5;28mself\u001b[39m\u001b[38;5;241m.\u001b[39muncompressed_name \u001b[38;5;241m=\u001b[39m (\n\u001b[0;32m     50\u001b[0m     \u001b[38;5;28mself\u001b[39m\u001b[38;5;241m.\u001b[39mcompressed_name[: \u001b[38;5;28mself\u001b[39m\u001b[38;5;241m.\u001b[39mcompressed_name\u001b[38;5;241m.\u001b[39mrindex(\u001b[38;5;124m\"\u001b[39m\u001b[38;5;124m.\u001b[39m\u001b[38;5;124m\"\u001b[39m)]\n\u001b[0;32m     51\u001b[0m     \u001b[38;5;28;01mif\u001b[39;00m \u001b[38;5;124m\"\u001b[39m\u001b[38;5;124m.\u001b[39m\u001b[38;5;124m\"\u001b[39m \u001b[38;5;129;01min\u001b[39;00m \u001b[38;5;28mself\u001b[39m\u001b[38;5;241m.\u001b[39mcompressed_name\n\u001b[0;32m     52\u001b[0m     \u001b[38;5;28;01melse\u001b[39;00m \u001b[38;5;28mself\u001b[39m\u001b[38;5;241m.\u001b[39mcompressed_name\n\u001b[0;32m     53\u001b[0m )\n",
      "File \u001b[1;32mc:\\Users\\swati\\anaconda3\\envs\\LLM\\Lib\\site-packages\\fsspec\\core.py:461\u001b[0m, in \u001b[0;36mopen\u001b[1;34m(urlpath, mode, compression, encoding, errors, protocol, newline, **kwargs)\u001b[0m\n\u001b[0;32m    459\u001b[0m kw \u001b[38;5;241m=\u001b[39m {\u001b[38;5;124m\"\u001b[39m\u001b[38;5;124mexpand\u001b[39m\u001b[38;5;124m\"\u001b[39m: \u001b[38;5;28;01mFalse\u001b[39;00m}\n\u001b[0;32m    460\u001b[0m kw\u001b[38;5;241m.\u001b[39mupdate(kwargs)\n\u001b[1;32m--> 461\u001b[0m out \u001b[38;5;241m=\u001b[39m open_files(\n\u001b[0;32m    462\u001b[0m     urlpath\u001b[38;5;241m=\u001b[39m[urlpath],\n\u001b[0;32m    463\u001b[0m     mode\u001b[38;5;241m=\u001b[39mmode,\n\u001b[0;32m    464\u001b[0m     compression\u001b[38;5;241m=\u001b[39mcompression,\n\u001b[0;32m    465\u001b[0m     encoding\u001b[38;5;241m=\u001b[39mencoding,\n\u001b[0;32m    466\u001b[0m     errors\u001b[38;5;241m=\u001b[39merrors,\n\u001b[0;32m    467\u001b[0m     protocol\u001b[38;5;241m=\u001b[39mprotocol,\n\u001b[0;32m    468\u001b[0m     newline\u001b[38;5;241m=\u001b[39mnewline,\n\u001b[0;32m    469\u001b[0m     \u001b[38;5;241m*\u001b[39m\u001b[38;5;241m*\u001b[39mkw,\n\u001b[0;32m    470\u001b[0m )\n\u001b[0;32m    471\u001b[0m \u001b[38;5;28;01mif\u001b[39;00m \u001b[38;5;129;01mnot\u001b[39;00m out:\n\u001b[0;32m    472\u001b[0m     \u001b[38;5;28;01mraise\u001b[39;00m \u001b[38;5;167;01mFileNotFoundError\u001b[39;00m(urlpath)\n",
      "File \u001b[1;32mc:\\Users\\swati\\anaconda3\\envs\\LLM\\Lib\\site-packages\\fsspec\\core.py:302\u001b[0m, in \u001b[0;36mopen_files\u001b[1;34m(urlpath, mode, compression, encoding, errors, name_function, num, protocol, newline, auto_mkdir, expand, **kwargs)\u001b[0m\n\u001b[0;32m    299\u001b[0m         \u001b[38;5;28;01mexcept\u001b[39;00m \u001b[38;5;167;01mPermissionError\u001b[39;00m:\n\u001b[0;32m    300\u001b[0m             \u001b[38;5;28;01mpass\u001b[39;00m\n\u001b[0;32m    301\u001b[0m \u001b[38;5;28;01mreturn\u001b[39;00m OpenFiles(\n\u001b[1;32m--> 302\u001b[0m     [\n\u001b[0;32m    303\u001b[0m         OpenFile(\n\u001b[0;32m    304\u001b[0m             fs,\n\u001b[0;32m    305\u001b[0m             path,\n\u001b[0;32m    306\u001b[0m             mode\u001b[38;5;241m=\u001b[39mmode,\n\u001b[0;32m    307\u001b[0m             compression\u001b[38;5;241m=\u001b[39mcompression,\n\u001b[0;32m    308\u001b[0m             encoding\u001b[38;5;241m=\u001b[39mencoding,\n\u001b[0;32m    309\u001b[0m             errors\u001b[38;5;241m=\u001b[39merrors,\n\u001b[0;32m    310\u001b[0m             newline\u001b[38;5;241m=\u001b[39mnewline,\n\u001b[0;32m    311\u001b[0m         )\n\u001b[0;32m    312\u001b[0m         \u001b[38;5;28;01mfor\u001b[39;00m path \u001b[38;5;129;01min\u001b[39;00m paths\n\u001b[0;32m    313\u001b[0m     ],\n\u001b[0;32m    314\u001b[0m     mode\u001b[38;5;241m=\u001b[39mmode,\n\u001b[0;32m    315\u001b[0m     fs\u001b[38;5;241m=\u001b[39mfs,\n\u001b[0;32m    316\u001b[0m )\n",
      "File \u001b[1;32mc:\\Users\\swati\\anaconda3\\envs\\LLM\\Lib\\site-packages\\fsspec\\core.py:303\u001b[0m, in \u001b[0;36m<listcomp>\u001b[1;34m(.0)\u001b[0m\n\u001b[0;32m    299\u001b[0m         \u001b[38;5;28;01mexcept\u001b[39;00m \u001b[38;5;167;01mPermissionError\u001b[39;00m:\n\u001b[0;32m    300\u001b[0m             \u001b[38;5;28;01mpass\u001b[39;00m\n\u001b[0;32m    301\u001b[0m \u001b[38;5;28;01mreturn\u001b[39;00m OpenFiles(\n\u001b[0;32m    302\u001b[0m     [\n\u001b[1;32m--> 303\u001b[0m         OpenFile(\n\u001b[0;32m    304\u001b[0m             fs,\n\u001b[0;32m    305\u001b[0m             path,\n\u001b[0;32m    306\u001b[0m             mode\u001b[38;5;241m=\u001b[39mmode,\n\u001b[0;32m    307\u001b[0m             compression\u001b[38;5;241m=\u001b[39mcompression,\n\u001b[0;32m    308\u001b[0m             encoding\u001b[38;5;241m=\u001b[39mencoding,\n\u001b[0;32m    309\u001b[0m             errors\u001b[38;5;241m=\u001b[39merrors,\n\u001b[0;32m    310\u001b[0m             newline\u001b[38;5;241m=\u001b[39mnewline,\n\u001b[0;32m    311\u001b[0m         )\n\u001b[0;32m    312\u001b[0m         \u001b[38;5;28;01mfor\u001b[39;00m path \u001b[38;5;129;01min\u001b[39;00m paths\n\u001b[0;32m    313\u001b[0m     ],\n\u001b[0;32m    314\u001b[0m     mode\u001b[38;5;241m=\u001b[39mmode,\n\u001b[0;32m    315\u001b[0m     fs\u001b[38;5;241m=\u001b[39mfs,\n\u001b[0;32m    316\u001b[0m )\n",
      "File \u001b[1;32mc:\\Users\\swati\\anaconda3\\envs\\LLM\\Lib\\site-packages\\fsspec\\core.py:77\u001b[0m, in \u001b[0;36mOpenFile.__init__\u001b[1;34m(self, fs, path, mode, compression, encoding, errors, newline)\u001b[0m\n\u001b[0;32m     75\u001b[0m \u001b[38;5;28mself\u001b[39m\u001b[38;5;241m.\u001b[39mpath \u001b[38;5;241m=\u001b[39m path\n\u001b[0;32m     76\u001b[0m \u001b[38;5;28mself\u001b[39m\u001b[38;5;241m.\u001b[39mmode \u001b[38;5;241m=\u001b[39m mode\n\u001b[1;32m---> 77\u001b[0m \u001b[38;5;28mself\u001b[39m\u001b[38;5;241m.\u001b[39mcompression \u001b[38;5;241m=\u001b[39m get_compression(path, compression)\n\u001b[0;32m     78\u001b[0m \u001b[38;5;28mself\u001b[39m\u001b[38;5;241m.\u001b[39mencoding \u001b[38;5;241m=\u001b[39m encoding\n\u001b[0;32m     79\u001b[0m \u001b[38;5;28mself\u001b[39m\u001b[38;5;241m.\u001b[39merrors \u001b[38;5;241m=\u001b[39m errors\n",
      "File \u001b[1;32mc:\\Users\\swati\\anaconda3\\envs\\LLM\\Lib\\site-packages\\fsspec\\core.py:513\u001b[0m, in \u001b[0;36mget_compression\u001b[1;34m(urlpath, compression)\u001b[0m\n\u001b[0;32m    511\u001b[0m     compression \u001b[38;5;241m=\u001b[39m infer_compression(urlpath)\n\u001b[0;32m    512\u001b[0m \u001b[38;5;28;01mif\u001b[39;00m compression \u001b[38;5;129;01mis\u001b[39;00m \u001b[38;5;129;01mnot\u001b[39;00m \u001b[38;5;28;01mNone\u001b[39;00m \u001b[38;5;129;01mand\u001b[39;00m compression \u001b[38;5;129;01mnot\u001b[39;00m \u001b[38;5;129;01min\u001b[39;00m compr:\n\u001b[1;32m--> 513\u001b[0m     \u001b[38;5;28;01mraise\u001b[39;00m \u001b[38;5;167;01mValueError\u001b[39;00m(\u001b[38;5;124mf\u001b[39m\u001b[38;5;124m\"\u001b[39m\u001b[38;5;124mCompression type \u001b[39m\u001b[38;5;132;01m{\u001b[39;00mcompression\u001b[38;5;132;01m}\u001b[39;00m\u001b[38;5;124m not supported\u001b[39m\u001b[38;5;124m\"\u001b[39m)\n\u001b[0;32m    514\u001b[0m \u001b[38;5;28;01mreturn\u001b[39;00m compression\n",
      "\u001b[1;31mValueError\u001b[0m: Compression type zstd not supported"
     ]
    }
   ],
   "source": [
    "n=5\n",
    "print(\"pretrained dataset: \")\n",
    "top_n = itertools.islice(pretrained_dataset,n)\n",
    "for i in top_n:\n",
    "    print(i)"
   ]
  },
  {
   "cell_type": "code",
   "execution_count": 36,
   "metadata": {},
   "outputs": [
    {
     "data": {
      "text/html": [
       "<div>\n",
       "<style scoped>\n",
       "    .dataframe tbody tr th:only-of-type {\n",
       "        vertical-align: middle;\n",
       "    }\n",
       "\n",
       "    .dataframe tbody tr th {\n",
       "        vertical-align: top;\n",
       "    }\n",
       "\n",
       "    .dataframe thead th {\n",
       "        text-align: right;\n",
       "    }\n",
       "</style>\n",
       "<table border=\"1\" class=\"dataframe\">\n",
       "  <thead>\n",
       "    <tr style=\"text-align: right;\">\n",
       "      <th></th>\n",
       "      <th>question</th>\n",
       "      <th>answer</th>\n",
       "    </tr>\n",
       "  </thead>\n",
       "  <tbody>\n",
       "    <tr>\n",
       "      <th>0</th>\n",
       "      <td>What are the different types of documents avai...</td>\n",
       "      <td>Lamini has documentation on Getting Started, A...</td>\n",
       "    </tr>\n",
       "    <tr>\n",
       "      <th>1</th>\n",
       "      <td>What is the recommended way to set up and conf...</td>\n",
       "      <td>Lamini can be downloaded as a python package a...</td>\n",
       "    </tr>\n",
       "    <tr>\n",
       "      <th>2</th>\n",
       "      <td>How can I find the specific documentation I ne...</td>\n",
       "      <td>You can ask this model about documentation, wh...</td>\n",
       "    </tr>\n",
       "    <tr>\n",
       "      <th>3</th>\n",
       "      <td>Does the documentation include explanations of...</td>\n",
       "      <td>Our documentation provides both real-world and...</td>\n",
       "    </tr>\n",
       "    <tr>\n",
       "      <th>4</th>\n",
       "      <td>Does the documentation provide information abo...</td>\n",
       "      <td>External dependencies and libraries are all av...</td>\n",
       "    </tr>\n",
       "    <tr>\n",
       "      <th>...</th>\n",
       "      <td>...</td>\n",
       "      <td>...</td>\n",
       "    </tr>\n",
       "    <tr>\n",
       "      <th>1395</th>\n",
       "      <td>What is Lamini and what is its collaboration w...</td>\n",
       "      <td>Lamini is a library that simplifies the proces...</td>\n",
       "    </tr>\n",
       "    <tr>\n",
       "      <th>1396</th>\n",
       "      <td>How does Lamini simplify the process of access...</td>\n",
       "      <td>Lamini simplifies data access in Databricks by...</td>\n",
       "    </tr>\n",
       "    <tr>\n",
       "      <th>1397</th>\n",
       "      <td>What are some of the key features provided by ...</td>\n",
       "      <td>Lamini automatically manages the infrastructur...</td>\n",
       "    </tr>\n",
       "    <tr>\n",
       "      <th>1398</th>\n",
       "      <td>How does Lamini ensure data privacy during the...</td>\n",
       "      <td>During the training process, Lamini ensures da...</td>\n",
       "    </tr>\n",
       "    <tr>\n",
       "      <th>1399</th>\n",
       "      <td>Can you provide an example use case where Lami...</td>\n",
       "      <td>An example use case where Lamini outperforms C...</td>\n",
       "    </tr>\n",
       "  </tbody>\n",
       "</table>\n",
       "<p>1400 rows × 2 columns</p>\n",
       "</div>"
      ],
      "text/plain": [
       "                                               question                                             answer\n",
       "0     What are the different types of documents avai...  Lamini has documentation on Getting Started, A...\n",
       "1     What is the recommended way to set up and conf...  Lamini can be downloaded as a python package a...\n",
       "2     How can I find the specific documentation I ne...  You can ask this model about documentation, wh...\n",
       "3     Does the documentation include explanations of...  Our documentation provides both real-world and...\n",
       "4     Does the documentation provide information abo...  External dependencies and libraries are all av...\n",
       "...                                                 ...                                                ...\n",
       "1395  What is Lamini and what is its collaboration w...  Lamini is a library that simplifies the proces...\n",
       "1396  How does Lamini simplify the process of access...  Lamini simplifies data access in Databricks by...\n",
       "1397  What are some of the key features provided by ...  Lamini automatically manages the infrastructur...\n",
       "1398  How does Lamini ensure data privacy during the...  During the training process, Lamini ensures da...\n",
       "1399  Can you provide an example use case where Lami...  An example use case where Lamini outperforms C...\n",
       "\n",
       "[1400 rows x 2 columns]"
      ]
     },
     "execution_count": 36,
     "metadata": {},
     "output_type": "execute_result"
    }
   ],
   "source": [
    "filename = \"lamini_docs.jsonl\"\n",
    "instruction_dstaset_df = pd.read_json(filename,lines=True)\n",
    "instruction_dstaset_df"
   ]
  },
  {
   "cell_type": "code",
   "execution_count": 37,
   "metadata": {},
   "outputs": [
    {
     "data": {
      "text/plain": [
       "\"What are the different types of documents available in the repository (e.g., installation guide, API documentation, developer's guide)?Lamini has documentation on Getting Started, Authentication, Question Answer Model, Python Library, Batching, Error Handling, Advanced topics, and class documentation on LLM Engine available at https://lamini-ai.github.io/.\""
      ]
     },
     "execution_count": 37,
     "metadata": {},
     "output_type": "execute_result"
    }
   ],
   "source": [
    "examples = instruction_dstaset_df.to_dict()\n",
    "text = examples[\"question\"][0] + examples[\"answer\"][0]\n",
    "text"
   ]
  },
  {
   "cell_type": "code",
   "execution_count": 38,
   "metadata": {},
   "outputs": [],
   "source": [
    "prompt_template_qa = \"\"\"### Question:\n",
    "{question}\n",
    "\n",
    "###Answer:\n",
    "{answer}\"\"\""
   ]
  },
  {
   "cell_type": "code",
   "execution_count": 39,
   "metadata": {},
   "outputs": [],
   "source": [
    "question = examples[\"question\"][0]\n",
    "answer = examples[\"answer\"][0]\n",
    "\n",
    "text_with_prompt_template = prompt_template_qa.format(question=question,answer=answer)"
   ]
  },
  {
   "cell_type": "code",
   "execution_count": 40,
   "metadata": {},
   "outputs": [
    {
     "data": {
      "text/plain": [
       "\"### Question:\\nWhat are the different types of documents available in the repository (e.g., installation guide, API documentation, developer's guide)?\\n\\n###Answer:\\nLamini has documentation on Getting Started, Authentication, Question Answer Model, Python Library, Batching, Error Handling, Advanced topics, and class documentation on LLM Engine available at https://lamini-ai.github.io/.\""
      ]
     },
     "execution_count": 40,
     "metadata": {},
     "output_type": "execute_result"
    }
   ],
   "source": [
    "text_with_prompt_template"
   ]
  },
  {
   "cell_type": "code",
   "execution_count": 41,
   "metadata": {},
   "outputs": [],
   "source": [
    "prompt_template_q = \"\"\"### Question:\n",
    "{question}\n",
    "\n",
    "###Answer:\"\"\""
   ]
  },
  {
   "cell_type": "code",
   "execution_count": 43,
   "metadata": {},
   "outputs": [],
   "source": [
    "num_examples = len(examples[\"question\"])\n",
    "finetuning_dataset_text_only = []\n",
    "finetuning_dataset_question_answer = []\n",
    "\n",
    "for i in range(num_examples):\n",
    "    question = examples[\"question\"][i]\n",
    "    answer = examples[\"answer\"][i]\n",
    "\n",
    "    text_with_prompt_tmplt_qa = prompt_template_qa.format(question=question,answer=answer)\n",
    "    finetuning_dataset_text_only.append({\"text\":text_with_prompt_tmplt_qa})\n",
    "\n",
    "    text_with_prompt_tmplt_q = prompt_template_q.format(question=question)\n",
    "    finetuning_dataset_question_answer.append({\"question\":text_with_prompt_tmplt_q})"
   ]
  },
  {
   "cell_type": "code",
   "execution_count": 44,
   "metadata": {},
   "outputs": [
    {
     "name": "stdout",
     "output_type": "stream",
     "text": [
      "{'text': \"### Question:\\nWhat are the different types of documents available in the repository (e.g., installation guide, API documentation, developer's guide)?\\n\\n###Answer:\\nLamini has documentation on Getting Started, Authentication, Question Answer Model, Python Library, Batching, Error Handling, Advanced topics, and class documentation on LLM Engine available at https://lamini-ai.github.io/.\"}\n"
     ]
    }
   ],
   "source": [
    "print(finetuning_dataset_text_only[0])"
   ]
  },
  {
   "cell_type": "code",
   "execution_count": 45,
   "metadata": {},
   "outputs": [
    {
     "name": "stdout",
     "output_type": "stream",
     "text": [
      "{'question': \"### Question:\\nWhat are the different types of documents available in the repository (e.g., installation guide, API documentation, developer's guide)?\\n\\n###Answer:\"}\n"
     ]
    }
   ],
   "source": [
    "print(finetuning_dataset_question_answer[0])"
   ]
  }
 ],
 "metadata": {
  "kernelspec": {
   "display_name": "LLM",
   "language": "python",
   "name": "python3"
  },
  "language_info": {
   "codemirror_mode": {
    "name": "ipython",
    "version": 3
   },
   "file_extension": ".py",
   "mimetype": "text/x-python",
   "name": "python",
   "nbconvert_exporter": "python",
   "pygments_lexer": "ipython3",
   "version": "3.11.7"
  }
 },
 "nbformat": 4,
 "nbformat_minor": 2
}
